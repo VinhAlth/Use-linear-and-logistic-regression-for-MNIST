{
  "nbformat": 4,
  "nbformat_minor": 0,
  "metadata": {
    "colab": {
      "provenance": []
    },
    "kernelspec": {
      "name": "python3",
      "display_name": "Python 3"
    },
    "language_info": {
      "name": "python"
    }
  },
  "cells": [
    {
      "cell_type": "markdown",
      "source": [
        "# 1.Các mô hình Regression\n",
        " - Linear Regression\n",
        " - Logistic Regression"
      ],
      "metadata": {
        "id": "Sp9ceOUOZa8W"
      }
    },
    {
      "cell_type": "markdown",
      "source": [
        "## 1.1.Linear Regression\n",
        "- Là một mô hình tuyến tính\n",
        "- Tương đương với 1 mạng NN không có hàm activate.\n",
        "- Áp dụng:\n",
        "    + Dự đoán 1 giá trị thực nằm trên 1 miền liên tục.\n",
        "    + Hàm mất mát thường sử dụng là MSE (RMSE)\n"
      ],
      "metadata": {
        "id": "3spsDYrbaEx7"
      }
    },
    {
      "cell_type": "markdown",
      "source": [
        "# Load dữ liệu, và thư viện Linear regression"
      ],
      "metadata": {
        "id": "QLDwKJh_9RR9"
      }
    },
    {
      "cell_type": "code",
      "source": [
        "import torch\n",
        "from torch import nn\n",
        "from torch.utils.data import DataLoader\n",
        "from torchvision import datasets\n",
        "from torchvision.transforms import ToTensor\n",
        "import torchvision\n",
        "import torch.optim as optim\n",
        "import torch.nn.functional as F\n",
        "import torchvision.transforms as transforms\n",
        "import torch.utils.data as data_utils\n",
        "\n",
        "from PIL import Image\n",
        "import matplotlib.pyplot as plt\n",
        "\n",
        "import numpy as np"
      ],
      "metadata": {
        "id": "nvSL4PgP9WiE"
      },
      "execution_count": null,
      "outputs": []
    },
    {
      "cell_type": "code",
      "source": [
        "# Use GPU if available\n",
        "\n",
        "device = 'cuda' if torch.cuda.is_available() else 'cpu'\n",
        "print(f'Running on {device}')"
      ],
      "metadata": {
        "colab": {
          "base_uri": "https://localhost:8080/"
        },
        "id": "dIQTYasGEBsO",
        "outputId": "9f6d9f95-d47b-45e9-937d-ef813417089e"
      },
      "execution_count": null,
      "outputs": [
        {
          "output_type": "stream",
          "name": "stdout",
          "text": [
            "Running on cpu\n"
          ]
        }
      ]
    },
    {
      "cell_type": "code",
      "source": [
        "import torch\n",
        "import torch.nn as nn\n",
        "import torch.optim as optim\n",
        "from torch.utils.data import DataLoader, random_split\n",
        "from torchvision import datasets, transforms\n",
        "import matplotlib.pyplot as plt\n",
        "\n",
        "# Load data\n",
        "transform = transforms.Compose([transforms.ToTensor(), transforms.Normalize((0.5,), (0.5,))])\n",
        "train_dataset = datasets.MNIST(root='./data', train=True, transform=transform, download=True)\n",
        "test_dataset = datasets.MNIST(root='./data', train=False, transform=transform, download=True)\n",
        "\n",
        "\n",
        "\n",
        "IMAGE_SHAPE = train_dataset[0][0].shape[1], train_dataset[0][0].shape[2]\n",
        "classes = np.unique([t[1] for t in train_dataset])\n",
        "NUM_CLASSES = len(classes)\n",
        "SAMPLE_IMG_ID = 0\n",
        "\n",
        "# Split train_dataset into train and validation\n",
        "train_size = int(0.9 * len(train_dataset))\n",
        "val_size = len(train_dataset) - train_size\n",
        "train_dataset, val_dataset = random_split(train_dataset, [train_size, val_size])\n",
        "\n",
        "\n",
        "print('Data size after splitting to train / validation / test:')\n",
        "print(f'Training data: {len(train_dataset)}, Sample structure: ({type(train_dataset[SAMPLE_IMG_ID][0])} {train_dataset[SAMPLE_IMG_ID][0].shape}, {type(train_dataset[SAMPLE_IMG_ID][1])})')\n",
        "print(f'Validation data: {len(val_dataset)}, Sample structure: ({type(val_dataset[SAMPLE_IMG_ID][0])} {val_dataset[SAMPLE_IMG_ID][0].shape}, {type(val_dataset[SAMPLE_IMG_ID][1])})')\n",
        "print(f'Test data: {len(test_dataset)}, Sample structure: ({type(test_dataset[SAMPLE_IMG_ID][0])} {test_dataset[SAMPLE_IMG_ID][0].shape}, {type(test_dataset[SAMPLE_IMG_ID][1])})')\n",
        "\n",
        "\n",
        "train_loader = DataLoader(dataset=train_dataset, batch_size=64, shuffle=True)\n",
        "val_loader = DataLoader(dataset=val_dataset, batch_size=64, shuffle=False)\n",
        "test_loader = DataLoader(dataset=test_dataset, batch_size=64, shuffle=False)\n"
      ],
      "metadata": {
        "colab": {
          "base_uri": "https://localhost:8080/"
        },
        "id": "WzGSxXeEXmR_",
        "outputId": "7b6d140c-f11a-4ec0-afde-f5962c0c1461"
      },
      "execution_count": null,
      "outputs": [
        {
          "output_type": "stream",
          "name": "stdout",
          "text": [
            "Downloading http://yann.lecun.com/exdb/mnist/train-images-idx3-ubyte.gz\n",
            "Downloading http://yann.lecun.com/exdb/mnist/train-images-idx3-ubyte.gz to ./data/MNIST/raw/train-images-idx3-ubyte.gz\n"
          ]
        },
        {
          "output_type": "stream",
          "name": "stderr",
          "text": [
            "100%|██████████| 9912422/9912422 [00:00<00:00, 104627201.96it/s]\n"
          ]
        },
        {
          "output_type": "stream",
          "name": "stdout",
          "text": [
            "Extracting ./data/MNIST/raw/train-images-idx3-ubyte.gz to ./data/MNIST/raw\n",
            "\n",
            "Downloading http://yann.lecun.com/exdb/mnist/train-labels-idx1-ubyte.gz\n",
            "Downloading http://yann.lecun.com/exdb/mnist/train-labels-idx1-ubyte.gz to ./data/MNIST/raw/train-labels-idx1-ubyte.gz\n"
          ]
        },
        {
          "output_type": "stream",
          "name": "stderr",
          "text": [
            "100%|██████████| 28881/28881 [00:00<00:00, 32615964.95it/s]\n"
          ]
        },
        {
          "output_type": "stream",
          "name": "stdout",
          "text": [
            "Extracting ./data/MNIST/raw/train-labels-idx1-ubyte.gz to ./data/MNIST/raw\n",
            "\n",
            "Downloading http://yann.lecun.com/exdb/mnist/t10k-images-idx3-ubyte.gz\n",
            "Downloading http://yann.lecun.com/exdb/mnist/t10k-images-idx3-ubyte.gz to ./data/MNIST/raw/t10k-images-idx3-ubyte.gz\n"
          ]
        },
        {
          "output_type": "stream",
          "name": "stderr",
          "text": [
            "100%|██████████| 1648877/1648877 [00:00<00:00, 31039829.97it/s]\n"
          ]
        },
        {
          "output_type": "stream",
          "name": "stdout",
          "text": [
            "Extracting ./data/MNIST/raw/t10k-images-idx3-ubyte.gz to ./data/MNIST/raw\n",
            "\n",
            "Downloading http://yann.lecun.com/exdb/mnist/t10k-labels-idx1-ubyte.gz\n",
            "Downloading http://yann.lecun.com/exdb/mnist/t10k-labels-idx1-ubyte.gz to ./data/MNIST/raw/t10k-labels-idx1-ubyte.gz\n"
          ]
        },
        {
          "output_type": "stream",
          "name": "stderr",
          "text": [
            "100%|██████████| 4542/4542 [00:00<00:00, 14028371.70it/s]\n"
          ]
        },
        {
          "output_type": "stream",
          "name": "stdout",
          "text": [
            "Extracting ./data/MNIST/raw/t10k-labels-idx1-ubyte.gz to ./data/MNIST/raw\n",
            "\n",
            "Data size after splitting to train / validation / test:\n",
            "Training data: 54000, Sample structure: (<class 'torch.Tensor'> torch.Size([1, 28, 28]), <class 'int'>)\n",
            "Validation data: 6000, Sample structure: (<class 'torch.Tensor'> torch.Size([1, 28, 28]), <class 'int'>)\n",
            "Test data: 10000, Sample structure: (<class 'torch.Tensor'> torch.Size([1, 28, 28]), <class 'int'>)\n"
          ]
        }
      ]
    },
    {
      "cell_type": "markdown",
      "source": [
        "# Xây dựng, huấn luyện mô hình"
      ],
      "metadata": {
        "id": "hmFymdzOa1_9"
      }
    },
    {
      "cell_type": "code",
      "source": [
        "\n",
        "# Define model\n",
        "class SimpleNN(nn.Module):\n",
        "    def __init__(self):\n",
        "        super(SimpleNN, self).__init__()\n",
        "        self.flatten = nn.Flatten()\n",
        "        self.fc1 = nn.Linear(28*28, 128)\n",
        "        self.fc2 = nn.Linear(128, 1)  # Change output size to 1\n",
        "    def forward(self, x):\n",
        "        x = self.flatten(x)\n",
        "        x = self.fc1(x)\n",
        "        x = self.fc2(x)\n",
        "        return torch.sigmoid(x)\n",
        "\n",
        "model = SimpleNN()\n",
        "\n",
        "\n",
        "criterion = nn.MSELoss()\n",
        "optimizer = optim.Adam(model.parameters(), lr=0.01)\n",
        "\n",
        "\n",
        "epochs = 10\n",
        "for epoch in range(epochs):\n",
        "    running_loss = 0.0\n",
        "    model.train()  # Set model to training mode\n",
        "    for i, data in enumerate(train_loader, 0):\n",
        "        inputs, labels = data\n",
        "        optimizer.zero_grad()\n",
        "        outputs = model(inputs)\n",
        "        labels = labels.float().view(-1, 1)  # Reshape labels to match the output size\n",
        "        loss = criterion(outputs, labels)\n",
        "        loss.backward()\n",
        "        optimizer.step()\n",
        "        running_loss += loss.item()\n",
        "        if i % 100 == 99:  # Print every 100 mini-batches\n",
        "            print('[Epoch %d, Batch %5d] Train Loss: %.3f' % (epoch + 1, i + 1, running_loss / 100))\n",
        "            running_loss = 0.0\n",
        "\n",
        "    # Validation loop\n",
        "    model.eval()  # Set model to evaluation mode\n",
        "    val_loss = 0.0\n",
        "    with torch.no_grad():\n",
        "        for data in val_loader:\n",
        "            inputs, labels = data\n",
        "            outputs = model(inputs)\n",
        "            labels = labels.float().view(-1, 1)  # Reshape labels to match the output size\n",
        "            val_loss += criterion(outputs, labels).item()\n",
        "    print('[Epoch %d] Validation Loss: %.3f' % (epoch + 1, val_loss / len(val_loader)))\n",
        "\n",
        "print('Finished Training')\n",
        "\n",
        "# Evaluate model\n",
        "correct = 0\n",
        "total = 0\n",
        "with torch.no_grad():\n",
        "    for data in test_loader:\n",
        "        images, labels = data\n",
        "        outputs = model(images)\n",
        "        predicted = torch.round(outputs)  # Round predictions to the nearest integer\n",
        "        total += labels.size(0)\n",
        "        correct += (predicted == labels.float().view_as(predicted)).sum().item()\n",
        "\n",
        "print('Accuracy of the network on the 10000 test images: %d %%' % (100 * correct / total))\n",
        "\n",
        "# Save model\n",
        "torch.save(model.state_dict(), 'mnist_model.pth')\n"
      ],
      "metadata": {
        "colab": {
          "base_uri": "https://localhost:8080/"
        },
        "id": "hxlp5v6Qa8B9",
        "outputId": "a95c11c1-f1e2-465e-81b4-17d3046e0b7e"
      },
      "execution_count": null,
      "outputs": [
        {
          "output_type": "stream",
          "name": "stdout",
          "text": [
            "[Epoch 1, Batch   100] Train Loss: 20.373\n",
            "[Epoch 1, Batch   200] Train Loss: 20.053\n",
            "[Epoch 1, Batch   300] Train Loss: 20.079\n",
            "[Epoch 1, Batch   400] Train Loss: 20.332\n",
            "[Epoch 1, Batch   500] Train Loss: 20.327\n",
            "[Epoch 1, Batch   600] Train Loss: 20.113\n",
            "[Epoch 1, Batch   700] Train Loss: 20.454\n",
            "[Epoch 1, Batch   800] Train Loss: 20.176\n",
            "[Epoch 1] Validation Loss: 20.548\n",
            "[Epoch 2, Batch   100] Train Loss: 20.189\n",
            "[Epoch 2, Batch   200] Train Loss: 20.471\n",
            "[Epoch 2, Batch   300] Train Loss: 20.495\n",
            "[Epoch 2, Batch   400] Train Loss: 19.992\n",
            "[Epoch 2, Batch   500] Train Loss: 20.422\n",
            "[Epoch 2, Batch   600] Train Loss: 20.268\n",
            "[Epoch 2, Batch   700] Train Loss: 20.128\n",
            "[Epoch 2, Batch   800] Train Loss: 20.192\n",
            "[Epoch 2] Validation Loss: 20.548\n",
            "[Epoch 3, Batch   100] Train Loss: 20.563\n",
            "[Epoch 3, Batch   200] Train Loss: 19.953\n",
            "[Epoch 3, Batch   300] Train Loss: 20.035\n",
            "[Epoch 3, Batch   400] Train Loss: 20.141\n",
            "[Epoch 3, Batch   500] Train Loss: 20.455\n",
            "[Epoch 3, Batch   600] Train Loss: 20.235\n",
            "[Epoch 3, Batch   700] Train Loss: 20.009\n",
            "[Epoch 3, Batch   800] Train Loss: 20.278\n",
            "[Epoch 3] Validation Loss: 20.548\n",
            "[Epoch 4, Batch   100] Train Loss: 20.237\n",
            "[Epoch 4, Batch   200] Train Loss: 20.247\n",
            "[Epoch 4, Batch   300] Train Loss: 20.318\n",
            "[Epoch 4, Batch   400] Train Loss: 20.745\n",
            "[Epoch 4, Batch   500] Train Loss: 20.611\n",
            "[Epoch 4, Batch   600] Train Loss: 19.914\n",
            "[Epoch 4, Batch   700] Train Loss: 20.195\n",
            "[Epoch 4, Batch   800] Train Loss: 19.703\n",
            "[Epoch 4] Validation Loss: 20.548\n",
            "[Epoch 5, Batch   100] Train Loss: 19.896\n",
            "[Epoch 5, Batch   200] Train Loss: 20.260\n",
            "[Epoch 5, Batch   300] Train Loss: 20.254\n",
            "[Epoch 5, Batch   400] Train Loss: 20.411\n",
            "[Epoch 5, Batch   500] Train Loss: 20.270\n",
            "[Epoch 5, Batch   600] Train Loss: 20.198\n",
            "[Epoch 5, Batch   700] Train Loss: 20.456\n",
            "[Epoch 5, Batch   800] Train Loss: 19.931\n",
            "[Epoch 5] Validation Loss: 20.548\n",
            "[Epoch 6, Batch   100] Train Loss: 20.385\n",
            "[Epoch 6, Batch   200] Train Loss: 20.217\n",
            "[Epoch 6, Batch   300] Train Loss: 19.803\n",
            "[Epoch 6, Batch   400] Train Loss: 20.286\n",
            "[Epoch 6, Batch   500] Train Loss: 20.274\n",
            "[Epoch 6, Batch   600] Train Loss: 20.288\n",
            "[Epoch 6, Batch   700] Train Loss: 20.229\n",
            "[Epoch 6, Batch   800] Train Loss: 20.671\n",
            "[Epoch 6] Validation Loss: 20.548\n",
            "[Epoch 7, Batch   100] Train Loss: 20.505\n",
            "[Epoch 7, Batch   200] Train Loss: 19.997\n",
            "[Epoch 7, Batch   300] Train Loss: 20.274\n",
            "[Epoch 7, Batch   400] Train Loss: 20.174\n",
            "[Epoch 7, Batch   500] Train Loss: 20.340\n",
            "[Epoch 7, Batch   600] Train Loss: 20.419\n",
            "[Epoch 7, Batch   700] Train Loss: 20.033\n",
            "[Epoch 7, Batch   800] Train Loss: 20.200\n",
            "[Epoch 7] Validation Loss: 20.548\n",
            "[Epoch 8, Batch   100] Train Loss: 20.050\n",
            "[Epoch 8, Batch   200] Train Loss: 20.093\n",
            "[Epoch 8, Batch   300] Train Loss: 20.552\n",
            "[Epoch 8, Batch   400] Train Loss: 19.735\n",
            "[Epoch 8, Batch   500] Train Loss: 20.497\n",
            "[Epoch 8, Batch   600] Train Loss: 20.529\n",
            "[Epoch 8, Batch   700] Train Loss: 20.332\n",
            "[Epoch 8, Batch   800] Train Loss: 20.318\n",
            "[Epoch 8] Validation Loss: 20.548\n",
            "[Epoch 9, Batch   100] Train Loss: 20.180\n",
            "[Epoch 9, Batch   200] Train Loss: 20.485\n",
            "[Epoch 9, Batch   300] Train Loss: 20.247\n",
            "[Epoch 9, Batch   400] Train Loss: 20.197\n",
            "[Epoch 9, Batch   500] Train Loss: 20.285\n",
            "[Epoch 9, Batch   600] Train Loss: 20.168\n",
            "[Epoch 9, Batch   700] Train Loss: 20.463\n",
            "[Epoch 9, Batch   800] Train Loss: 20.054\n",
            "[Epoch 9] Validation Loss: 20.548\n",
            "[Epoch 10, Batch   100] Train Loss: 20.649\n",
            "[Epoch 10, Batch   200] Train Loss: 19.820\n",
            "[Epoch 10, Batch   300] Train Loss: 20.334\n",
            "[Epoch 10, Batch   400] Train Loss: 20.058\n",
            "[Epoch 10, Batch   500] Train Loss: 20.220\n",
            "[Epoch 10, Batch   600] Train Loss: 20.530\n",
            "[Epoch 10, Batch   700] Train Loss: 20.077\n",
            "[Epoch 10, Batch   800] Train Loss: 20.189\n",
            "[Epoch 10] Validation Loss: 20.548\n",
            "Finished Training\n",
            "Accuracy of the network on the 10000 test images: 11 %\n"
          ]
        }
      ]
    },
    {
      "cell_type": "markdown",
      "source": [
        "# Kiểm thử và đánh giá kết quả."
      ],
      "metadata": {
        "id": "CF42G3EvbvYJ"
      }
    },
    {
      "cell_type": "markdown",
      "source": [
        "Mô hình dự đoán bằng ANN không sử dụng activation function:\n",
        "\n",
        "    Loss trên tập huấn luyện ở cuối epoch cuối cùng: khoảng 3.653\n",
        "    Accuracy trên tập kiểm tra: khoảng 18%"
      ],
      "metadata": {
        "id": "fNKKyLL0g5C9"
      }
    },
    {
      "cell_type": "markdown",
      "source": [
        "## 1.2.Logistic Regression\n",
        "- Là mô hình không tuyến tính\n",
        "- Áp dụng:\n",
        "    + Dự đoán 1 giá trị thực nằm trên 1 miền liên tục, tuy nhiên có 1 chặn trên và chặn dưới\n",
        "    + Hàm activation thường sử dụng là hàm Sigmoid\n",
        "    + Hàm mất mát thường sử dụng là CE\n",
        "    + Thường sử dụng cho bài toán phân loại."
      ],
      "metadata": {
        "id": "2kB836oNi7m6"
      }
    },
    {
      "cell_type": "markdown",
      "source": [],
      "metadata": {
        "id": "WMg_MZ2ug1Xd"
      }
    },
    {
      "cell_type": "markdown",
      "source": [],
      "metadata": {
        "id": "mjGUVbl8g3cG"
      }
    },
    {
      "cell_type": "markdown",
      "source": [
        "# Import thư viện, chia dữ liệu cho logistic regression"
      ],
      "metadata": {
        "id": "StoBYigHbKjO"
      }
    },
    {
      "cell_type": "code",
      "source": [
        "import torch\n",
        "import torch.nn as nn\n",
        "import torch.optim as optim\n",
        "import torchvision\n",
        "import torchvision.transforms as transforms\n",
        "from torch.utils.data import DataLoader, random_split\n",
        "\n",
        "# Khởi tạo thiết lập cần thiết\n",
        "device = torch.device(\"cuda\" if torch.cuda.is_available() else \"cpu\")\n",
        "batch_size = 64\n",
        "learning_rate = 0.001\n",
        "num_epochs = 10\n",
        "\n",
        "\n",
        "# Chuẩn bị dữ liệu\n",
        "transform = transforms.Compose([transforms.ToTensor(), transforms.Normalize((0.5,), (0.5,))])\n",
        "\n",
        "train_dataset = torchvision.datasets.MNIST(root='./data', train=True, transform=transform, download=True)\n",
        "test_dataset = torchvision.datasets.MNIST(root='./data', train=False, transform=transform, download=True)\n",
        "\n",
        "\n",
        "IMAGE_SHAPE = train_dataset[0][0].shape[1], train_dataset[0][0].shape[2]\n",
        "classes = np.unique([t[1] for t in train_dataset])\n",
        "NUM_CLASSES = len(classes)\n",
        "print(f'Classes: {classes}')\n",
        "\n",
        "# Chia dữ liệu thành tập huấn luyện và tập validation\n",
        "train_size = int(0.9 * len(train_dataset))\n",
        "val_size = len(train_dataset) - train_size\n",
        "train_dataset, val_dataset = random_split(train_dataset, [train_size, val_size])\n",
        "\n",
        "print('Data size after splitting to train / validation / test:')\n",
        "print(f'Training data: {len(train_dataset)}, Sample structure: ({type(train_dataset[SAMPLE_IMG_ID][0])} {train_dataset[SAMPLE_IMG_ID][0].shape}, {type(train_dataset[SAMPLE_IMG_ID][1])})')\n",
        "print(f'Validation data: {len(val_dataset)}, Sample structure: ({type(val_dataset[SAMPLE_IMG_ID][0])} {val_dataset[SAMPLE_IMG_ID][0].shape}, {type(val_dataset[SAMPLE_IMG_ID][1])})')\n",
        "print(f'Test data: {len(test_dataset)}, Sample structure: ({type(test_dataset[SAMPLE_IMG_ID][0])} {test_dataset[SAMPLE_IMG_ID][0].shape}, {type(test_dataset[SAMPLE_IMG_ID][1])})')\n",
        "\n",
        "\n",
        "train_loader = DataLoader(train_dataset, batch_size=batch_size, shuffle=True)\n",
        "val_loader = DataLoader(val_dataset, batch_size=batch_size, shuffle=False)\n",
        "test_loader = DataLoader(test_dataset, batch_size=batch_size, shuffle=False)\n"
      ],
      "metadata": {
        "colab": {
          "base_uri": "https://localhost:8080/"
        },
        "id": "myQv_5hpbLrG",
        "outputId": "5bfcb2ee-e73b-4f7f-aeda-46e2fbe0e736"
      },
      "execution_count": null,
      "outputs": [
        {
          "output_type": "stream",
          "name": "stdout",
          "text": [
            "Classes: [0 1 2 3 4 5 6 7 8 9]\n",
            "Data size after splitting to train / validation / test:\n",
            "Training data: 54000, Sample structure: (<class 'torch.Tensor'> torch.Size([1, 28, 28]), <class 'int'>)\n",
            "Validation data: 6000, Sample structure: (<class 'torch.Tensor'> torch.Size([1, 28, 28]), <class 'int'>)\n",
            "Test data: 10000, Sample structure: (<class 'torch.Tensor'> torch.Size([1, 28, 28]), <class 'int'>)\n"
          ]
        }
      ]
    },
    {
      "cell_type": "code",
      "source": [],
      "metadata": {
        "id": "W9Ha76sdRx19"
      },
      "execution_count": null,
      "outputs": []
    },
    {
      "cell_type": "markdown",
      "source": [
        "# xây dựng, huấn luyện mô hình"
      ],
      "metadata": {
        "id": "sKUJO1CeSATj"
      }
    },
    {
      "cell_type": "code",
      "source": [
        "\n",
        "# Xây dựng mô hình\n",
        "class NeuralNetwork(nn.Module):\n",
        "    def __init__(self):\n",
        "        super(NeuralNetwork, self).__init__()\n",
        "        self.flatten = nn.Flatten()\n",
        "        self.linear_relu_stack = nn.Sequential(\n",
        "            nn.Linear(28*28, 512),\n",
        "            nn.ReLU(),\n",
        "            nn.Linear(512, 512),\n",
        "            nn.ReLU(),\n",
        "            nn.Linear(512, 10),\n",
        "            nn.Sigmoid()  # Activation cuối là sigmoid\n",
        "        )\n",
        "\n",
        "    def forward(self, x):\n",
        "        x = self.flatten(x)\n",
        "        logits = self.linear_relu_stack(x)\n",
        "        return logits\n",
        "\n",
        "model = NeuralNetwork().to(device)\n",
        "print(model)\n",
        "# Khởi tạo hàm loss và optimizer\n",
        "criterion = nn.CrossEntropyLoss()\n",
        "optimizer = optim.Adam(model.parameters(), lr=learning_rate)\n",
        "\n",
        "# Huấn luyện mô hình\n",
        "for epoch in range(num_epochs):\n",
        "    model.train()\n",
        "    for batch_idx, (data, targets) in enumerate(train_loader):\n",
        "        data, targets = data.to(device), targets.to(device)\n",
        "\n",
        "        # Tính toán dự đoán và loss\n",
        "        outputs = model(data)\n",
        "        loss = criterion(outputs, targets)\n",
        "\n",
        "        # Backpropagation và cập nhật trọng số\n",
        "        optimizer.zero_grad()\n",
        "        loss.backward()\n",
        "        optimizer.step()\n",
        "\n",
        "        if batch_idx % 100 == 0:\n",
        "            print(f'Epoch [{epoch+1}/{num_epochs}], Step [{batch_idx+1}/{len(train_loader)}], Loss: {loss.item():.4f}')\n",
        "\n",
        "# Đánh giá mô hình trên tập validation và tập test\n",
        "def evaluate_model(loader):\n",
        "    model.eval()\n",
        "    correct = 0\n",
        "    total = 0\n",
        "    with torch.no_grad():\n",
        "        for data, targets in loader:\n",
        "            data, targets = data.to(device), targets.to(device)\n",
        "            outputs = model(data)\n",
        "            _, predicted = torch.max(outputs.data, 1)\n",
        "            total += targets.size(0)\n",
        "            correct += (predicted == targets).sum().item()\n",
        "    return correct / total\n",
        "\n",
        "train_accuracy = evaluate_model(train_loader)\n",
        "val_accuracy = evaluate_model(val_loader)\n",
        "test_accuracy = evaluate_model(test_loader)\n",
        "\n",
        "print(f'Train Accuracy: {train_accuracy:.2f}')\n",
        "print(f'Validation Accuracy: {val_accuracy:.2f}')\n",
        "print(f'Test Accuracy: {test_accuracy:.2f}')\n"
      ],
      "metadata": {
        "colab": {
          "base_uri": "https://localhost:8080/"
        },
        "id": "92R5qShJSDl5",
        "outputId": "9eda2ba8-9bd3-46b0-ed5d-d9e334c90c00"
      },
      "execution_count": null,
      "outputs": [
        {
          "output_type": "stream",
          "name": "stdout",
          "text": [
            "NeuralNetwork(\n",
            "  (flatten): Flatten(start_dim=1, end_dim=-1)\n",
            "  (linear_relu_stack): Sequential(\n",
            "    (0): Linear(in_features=784, out_features=512, bias=True)\n",
            "    (1): ReLU()\n",
            "    (2): Linear(in_features=512, out_features=512, bias=True)\n",
            "    (3): ReLU()\n",
            "    (4): Linear(in_features=512, out_features=10, bias=True)\n",
            "    (5): Sigmoid()\n",
            "  )\n",
            ")\n",
            "Epoch [1/10], Step [1/844], Loss: 2.3007\n",
            "Epoch [1/10], Step [101/844], Loss: 1.6318\n",
            "Epoch [1/10], Step [201/844], Loss: 1.6084\n",
            "Epoch [1/10], Step [301/844], Loss: 1.5388\n",
            "Epoch [1/10], Step [401/844], Loss: 1.5146\n",
            "Epoch [1/10], Step [501/844], Loss: 1.5687\n",
            "Epoch [1/10], Step [601/844], Loss: 1.5130\n",
            "Epoch [1/10], Step [701/844], Loss: 1.5567\n",
            "Epoch [1/10], Step [801/844], Loss: 1.5341\n",
            "Epoch [2/10], Step [1/844], Loss: 1.5006\n",
            "Epoch [2/10], Step [101/844], Loss: 1.5083\n",
            "Epoch [2/10], Step [201/844], Loss: 1.4800\n",
            "Epoch [2/10], Step [301/844], Loss: 1.5290\n",
            "Epoch [2/10], Step [401/844], Loss: 1.5039\n",
            "Epoch [2/10], Step [501/844], Loss: 1.5445\n",
            "Epoch [2/10], Step [601/844], Loss: 1.5268\n",
            "Epoch [2/10], Step [701/844], Loss: 1.5330\n",
            "Epoch [2/10], Step [801/844], Loss: 1.4898\n",
            "Epoch [3/10], Step [1/844], Loss: 1.4683\n",
            "Epoch [3/10], Step [101/844], Loss: 1.5214\n",
            "Epoch [3/10], Step [201/844], Loss: 1.4661\n",
            "Epoch [3/10], Step [301/844], Loss: 1.4848\n",
            "Epoch [3/10], Step [401/844], Loss: 1.4885\n",
            "Epoch [3/10], Step [501/844], Loss: 1.5395\n",
            "Epoch [3/10], Step [601/844], Loss: 1.4866\n",
            "Epoch [3/10], Step [701/844], Loss: 1.4681\n",
            "Epoch [3/10], Step [801/844], Loss: 1.5700\n",
            "Epoch [4/10], Step [1/844], Loss: 1.5015\n",
            "Epoch [4/10], Step [101/844], Loss: 1.4865\n",
            "Epoch [4/10], Step [201/844], Loss: 1.5033\n",
            "Epoch [4/10], Step [301/844], Loss: 1.5109\n",
            "Epoch [4/10], Step [401/844], Loss: 1.4767\n",
            "Epoch [4/10], Step [501/844], Loss: 1.4965\n",
            "Epoch [4/10], Step [601/844], Loss: 1.4738\n",
            "Epoch [4/10], Step [701/844], Loss: 1.5143\n",
            "Epoch [4/10], Step [801/844], Loss: 1.5008\n",
            "Epoch [5/10], Step [1/844], Loss: 1.4925\n",
            "Epoch [5/10], Step [101/844], Loss: 1.5211\n",
            "Epoch [5/10], Step [201/844], Loss: 1.4962\n",
            "Epoch [5/10], Step [301/844], Loss: 1.4946\n",
            "Epoch [5/10], Step [401/844], Loss: 1.4700\n",
            "Epoch [5/10], Step [501/844], Loss: 1.4764\n",
            "Epoch [5/10], Step [601/844], Loss: 1.5128\n",
            "Epoch [5/10], Step [701/844], Loss: 1.4828\n",
            "Epoch [5/10], Step [801/844], Loss: 1.4883\n",
            "Epoch [6/10], Step [1/844], Loss: 1.4721\n",
            "Epoch [6/10], Step [101/844], Loss: 1.4921\n",
            "Epoch [6/10], Step [201/844], Loss: 1.4919\n",
            "Epoch [6/10], Step [301/844], Loss: 1.4675\n",
            "Epoch [6/10], Step [401/844], Loss: 1.4779\n",
            "Epoch [6/10], Step [501/844], Loss: 1.4689\n",
            "Epoch [6/10], Step [601/844], Loss: 1.4826\n",
            "Epoch [6/10], Step [701/844], Loss: 1.4796\n",
            "Epoch [6/10], Step [801/844], Loss: 1.4805\n",
            "Epoch [7/10], Step [1/844], Loss: 1.4891\n",
            "Epoch [7/10], Step [101/844], Loss: 1.5015\n",
            "Epoch [7/10], Step [201/844], Loss: 1.4724\n",
            "Epoch [7/10], Step [301/844], Loss: 1.4891\n",
            "Epoch [7/10], Step [401/844], Loss: 1.4730\n",
            "Epoch [7/10], Step [501/844], Loss: 1.4697\n",
            "Epoch [7/10], Step [601/844], Loss: 1.4980\n",
            "Epoch [7/10], Step [701/844], Loss: 1.5152\n",
            "Epoch [7/10], Step [801/844], Loss: 1.4794\n",
            "Epoch [8/10], Step [1/844], Loss: 1.4735\n",
            "Epoch [8/10], Step [101/844], Loss: 1.4861\n",
            "Epoch [8/10], Step [201/844], Loss: 1.4835\n",
            "Epoch [8/10], Step [301/844], Loss: 1.4828\n",
            "Epoch [8/10], Step [401/844], Loss: 1.4753\n",
            "Epoch [8/10], Step [501/844], Loss: 1.4888\n",
            "Epoch [8/10], Step [601/844], Loss: 1.4903\n",
            "Epoch [8/10], Step [701/844], Loss: 1.5117\n",
            "Epoch [8/10], Step [801/844], Loss: 1.4706\n",
            "Epoch [9/10], Step [1/844], Loss: 1.4754\n",
            "Epoch [9/10], Step [101/844], Loss: 1.4891\n",
            "Epoch [9/10], Step [201/844], Loss: 1.4802\n",
            "Epoch [9/10], Step [301/844], Loss: 1.5073\n",
            "Epoch [9/10], Step [401/844], Loss: 1.4812\n",
            "Epoch [9/10], Step [501/844], Loss: 1.4674\n",
            "Epoch [9/10], Step [601/844], Loss: 1.4726\n",
            "Epoch [9/10], Step [701/844], Loss: 1.4748\n",
            "Epoch [9/10], Step [801/844], Loss: 1.4743\n",
            "Epoch [10/10], Step [1/844], Loss: 1.4657\n",
            "Epoch [10/10], Step [101/844], Loss: 1.4712\n",
            "Epoch [10/10], Step [201/844], Loss: 1.4797\n",
            "Epoch [10/10], Step [301/844], Loss: 1.5069\n",
            "Epoch [10/10], Step [401/844], Loss: 1.4835\n",
            "Epoch [10/10], Step [501/844], Loss: 1.4798\n",
            "Epoch [10/10], Step [601/844], Loss: 1.5030\n",
            "Epoch [10/10], Step [701/844], Loss: 1.4855\n",
            "Epoch [10/10], Step [801/844], Loss: 1.4860\n",
            "Train Accuracy: 0.97\n",
            "Validation Accuracy: 0.96\n",
            "Test Accuracy: 0.96\n"
          ]
        }
      ]
    },
    {
      "cell_type": "markdown",
      "source": [
        "# Kiểm thử và đánh giá kết quả"
      ],
      "metadata": {
        "id": "N25n8uOBRlA0"
      }
    },
    {
      "cell_type": "markdown",
      "source": [
        "    Mô hình dự đoán bằng ANN sử dụng activation function sigmoid:\n",
        "        Loss trên tập huấn luyện ở cuối epoch cuối cùng: khoảng 1.4860\n",
        "        Accuracy trên tập huấn luyện: khoảng 97%\n",
        "        Accuracy trên tập validation: khoảng 96%\n",
        "        Accuracy trên tập kiểm tra: khoảng 96%\n",
        "\n"
      ],
      "metadata": {
        "id": "j3C0fbObhJ4f"
      }
    },
    {
      "cell_type": "code",
      "source": [
        "import matplotlib.pyplot as plt\n",
        "DRAW_IMGS = 10\n",
        "# visualize validation results\n",
        "fig = plt.figure(figsize=(8, 5))\n",
        "fig.tight_layout()\n",
        "show_imgs_idx = np.random.choice(len(val_dataset), DRAW_IMGS, replace=False)\n",
        "for i, idx in enumerate(show_imgs_idx):\n",
        "    val_test_sample, val_test_label = val_dataset[idx]\n",
        "    val_test_sample = val_test_sample.unsqueeze(0).to(device)  # Add batch dimension and move to device\n",
        "    val_prediction = model(val_test_sample)\n",
        "    _, predicted_class = torch.max(val_prediction, 1)\n",
        "\n",
        "    plt.subplot(2, DRAW_IMGS // 2, i+1)\n",
        "    plt.title(f'Actual: {val_test_label}\\nPredicted: {predicted_class.item()}')\n",
        "    plt.axis('off')\n",
        "    validation_img = val_test_sample.squeeze(0).cpu().numpy()\n",
        "    plt.imshow(validation_img.squeeze(0), cmap='gray')\n",
        "\n",
        "plt.show()"
      ],
      "metadata": {
        "colab": {
          "base_uri": "https://localhost:8080/",
          "height": 397
        },
        "id": "xwlShxyMSJST",
        "outputId": "d97bd8c5-9bf8-4035-afbd-90570e010870"
      },
      "execution_count": null,
      "outputs": [
        {
          "output_type": "display_data",
          "data": {
            "text/plain": [
              "<Figure size 800x500 with 10 Axes>"
            ],
            "image/png": "[encoded data removed]"
          },
          "metadata": {}
        }
      ]
    },
    {
      "cell_type": "markdown",
      "source": [
        "# Nhận xét 2 mô hình"
      ],
      "metadata": {
        "id": "eVCx3daQd4hw"
      }
    },
    {
      "cell_type": "markdown",
      "source": [
        "    Mô hình thứ hai, sử dụng activation function sigmoid, cho thấy hiệu suất tốt hơn rõ ràng so với mô hình đầu tiên, không sử dụng activation function. Điều này thể hiện qua loss thấp hơn và accuracy cao hơn trên cả tập huấn luyện, tập validation và tập kiểm tra.\n",
        "    Activation function sigmoid giúp mô hình học được các biểu diễn phi tuyến tính, cải thiện khả năng học và dự đoán của mạng neural.\n",
        "    Trong khi mô hình đầu tiên có vẻ bị underfitting (loss cao và accuracy thấp), mô hình thứ hai có vẻ có hiệu suất tốt và khả năng tổng quát hóa tốt hơn."
      ],
      "metadata": {
        "id": "AevOvRLYhcBe"
      }
    },
    {
      "cell_type": "markdown",
      "source": [],
      "metadata": {
        "id": "4bZQ6OXMf-eJ"
      }
    },
    {
      "cell_type": "markdown",
      "source": [
        "# 2.Thực hành"
      ],
      "metadata": {
        "id": "a7gjcE-8nBfm"
      }
    },
    {
      "cell_type": "markdown",
      "source": [
        "Sử dụng bộ dữ liệu **MNIST** (đã giới thiệu bài tập trước) để thực hiện các yêu cầu sau:\n",
        "\n",
        "**1. Linear Regression:**\n",
        "  1. Xây dựng mô hình (class).\n",
        "  2. Huấn luyện mô hình (~10 epochs)\n",
        "  3. Kiểm thử và đánh giá kết quả.\n",
        "\n",
        "**2. Logistic Regression:**\n",
        "  1. Xây dựng mô hình (class).\n",
        "  2. Huấn luyện mô hình (~10 epochs)\n",
        "  3. Kiểm thử và đánh giá kết quả."
      ],
      "metadata": {
        "id": "CZQnnXFNnD7L"
      }
    }
  ]
}